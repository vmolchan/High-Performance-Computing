{
 "cells": [
  {
   "cell_type": "markdown",
   "metadata": {},
   "source": [
    "# Assignment 7\n",
    "\n",
    "This repository contains a file `data.dat` that is actual tabular data from a stress-strain test conducted in a standard test frame (MTS machine).  The columns of data have the following format\n",
    "\n",
    "|time|Axial Displacement|Axial (engineering) Strain| Axial Force |\n",
    "|:-:|:-:|:-:|:-:|\n",
    "| (s) | (in) | (in/in) | (lbf) |\n",
    "\n",
    "Complete the function definition below for the function named `convert_to_true_stress_and_strain()`.  This function should take the name of a file (e.g. `data.dat`) as an argument and return a 2-tuple ($\\varepsilon_T$, $\\sigma_T$), where $\\varepsilon_T$ is the *true* strain and $\\sigma_T$ is the *true* stress.\n",
    "\n",
    "Recall that the definition of engineering stress is\n",
    "\n",
    "$$\n",
    "\\sigma_E = \\frac P A_o\n",
    "$$\n",
    "\n",
    "where $P$ is the axial force and $A_o$ is the original cross-sectional area of the sample.  The cross-sectional area can be computed from the width and thickness dimensions that are stored on the 3rd line of the header of the MTS data file.  Look for `Wo=` and `Thicko=`."
   ]
  },
  {
   "cell_type": "markdown",
   "metadata": {},
   "source": [
    "Your function should parse these values out computationally (not manually) because we expect them to be in every MTS header the same way and woud like the function to work on multiple data files.\n",
    "\n",
    "The conversion between engineering $\\varepsilon_E$ and true strain is\n",
    "\n",
    "$$\n",
    "\\varepsilon_T = \\ln(1+\\varepsilon_E).\n",
    "$$\n",
    "\n",
    "The conversion between engineering and true stress is\n",
    "\n",
    "$$\n",
    "\\sigma_T = \\sigma_E (1+\\varepsilon_E).\n",
    "$$\n",
    "\n",
    "Use Numpy data structures and broadcasted operations to make your code compact and efficient.\n",
    "\n",
    "## Please Note\n",
    "\n",
    "You may write your code directly in the Jupyter Notebook below or convert the notebook to a plain Python file with the command\n",
    "\n",
    "```bash\n",
    "jupyter nbconvert --to python assignment7.ipynb\n",
    "```\n",
    "\n",
    "which will create a file `assignment7.py`.  If you commit this file to the repository, only the Python file will be tested (not the Jupyter notebook).  However, if you do not commit this file into the repository, the Jupyter notebook will be converted automatically on Travis before testing.  "
   ]
  },
  {
   "cell_type": "code",
   "execution_count": 1,
   "metadata": {},
   "outputs": [],
   "source": [
    "import numpy as np  \n",
    "import re\n",
    "import linecache\n",
    "datafile = 'data.dat'"
   ]
  },
  {
   "cell_type": "markdown",
   "metadata": {},
   "source": [
    "We use regular expressions with the module `re` to extract the width **Wo** and thickness **Thicko** from the data file. \n",
    "\n",
    "`np.loadtxt()` will retrieve the remaining data contained below the data header."
   ]
  },
  {
   "cell_type": "code",
   "execution_count": 3,
   "metadata": {},
   "outputs": [],
   "source": [
    "def extract_width_thickness(filename):\n",
    "    for line in open(filename):\n",
    "        if \"Wo=\" in line:\n",
    "            s = re.split(\"[\\\"\\=]+\",line)\n",
    "    return (float(s[1]), float(s[3]))\n",
    "\n",
    "def convert_to_true_stress_and_strain(filename):\n",
    "    \n",
    "    (w, t) = extract_width_thickness(filename)\n",
    "    A_0 = w*t\n",
    "    \n",
    "    df = np.loadtxt(datafile, skiprows = 5)\n",
    "    E_e = df[:,2]\n",
    "    P = df[:,3]\n",
    "\n",
    "    sig_T = (P/A_0)*(1+E_e)\n",
    "    E_T = np.log(1+E_e)\n",
    "    \n",
    "    return (E_T, sig_T)"
   ]
  },
  {
   "cell_type": "code",
   "execution_count": 4,
   "metadata": {},
   "outputs": [],
   "source": [
    "(sig, et) = convert_to_true_stress_and_strain(datafile)\n"
   ]
  },
  {
   "cell_type": "code",
   "execution_count": 5,
   "metadata": {},
   "outputs": [
    {
     "name": "stdout",
     "output_type": "stream",
     "text": [
      "[ 1.76974413e-06  2.19162248e-05 -3.19850395e-05 ...  6.00969083e-01\n",
      "  6.01157958e-01  6.01484284e-01]\n"
     ]
    }
   ],
   "source": [
    "print(sig)"
   ]
  },
  {
   "cell_type": "code",
   "execution_count": 6,
   "metadata": {},
   "outputs": [
    {
     "name": "stdout",
     "output_type": "stream",
     "text": [
      "[   310.00135992    570.65679508    817.77043635 ... 110550.18990996\n",
      " 110154.87432769 108773.98868365]\n"
     ]
    }
   ],
   "source": [
    "print(et)"
   ]
  },
  {
   "cell_type": "code",
   "execution_count": 7,
   "metadata": {},
   "outputs": [],
   "source": [
    "(w, t) = extract_width_thickness(datafile)"
   ]
  },
  {
   "cell_type": "code",
   "execution_count": 11,
   "metadata": {},
   "outputs": [
    {
     "name": "stdout",
     "output_type": "stream",
     "text": [
      "0.2495\n"
     ]
    }
   ],
   "source": [
    "# Width\n",
    "print(w)"
   ]
  },
  {
   "cell_type": "code",
   "execution_count": 13,
   "metadata": {},
   "outputs": [
    {
     "name": "stdout",
     "output_type": "stream",
     "text": [
      "0.124\n"
     ]
    }
   ],
   "source": [
    "#Thickness\n",
    "print(t)"
   ]
  },
  {
   "cell_type": "code",
   "execution_count": null,
   "metadata": {},
   "outputs": [],
   "source": []
  }
 ],
 "metadata": {
  "kernelspec": {
   "display_name": "Python 3",
   "language": "python",
   "name": "python3"
  },
  "language_info": {
   "codemirror_mode": {
    "name": "ipython",
    "version": 3
   },
   "file_extension": ".py",
   "mimetype": "text/x-python",
   "name": "python",
   "nbconvert_exporter": "python",
   "pygments_lexer": "ipython3",
   "version": "3.7.1"
  }
 },
 "nbformat": 4,
 "nbformat_minor": 2
}
