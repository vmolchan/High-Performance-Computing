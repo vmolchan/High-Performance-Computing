{
 "cells": [
  {
   "cell_type": "markdown",
   "metadata": {},
   "source": [
    "# Assignment 8\n",
    "\n",
    "This repository contains the same file `data.dat` from [Assignment 7](https://github.com/PGE383-HPC-Spring2018/assignment7) and a Python class named `StressStrainConverter` that essentially implements a solution to that assignment in an object-oriented way.\n",
    "\n",
    "You should complete the derived class `Toughness` to compute toughness of the material from the stress strain curve.  Recall that toughness is the area under the stress-strain curve, i.e.\n",
    "\n",
    "$$\n",
    "\\mbox{Toughness} = \\int \\sigma \\, {\\rm d}\\varepsilon\n",
    "$$\n",
    "\n",
    "There are two function templates in the derived class that will be tested, `comute_toughness_simps()` which should use Simpson's rule for the integration and `compute_toughness_trapz()` which should use the trapezoid rule for the integration.  Both of these method implementations can be found in `scipy.integrate`.  Both of these functions should return the computed integral value.\n",
    "\n",
    "If you understand and use *class inheritance* you should be able to complete this assignment with only a few lines of code."
   ]
  },
  {
   "cell_type": "markdown",
   "metadata": {},
   "source": [
    "## Please Note\n",
    "\n",
    "You may write your code directly in the Jupyter Notebook below or convert the notebook to a plain Python file with the command\n",
    "\n",
    "```bash\n",
    "jupyter nbconvert --to python assignment8.ipynb\n",
    "```\n",
    "\n",
    "which will create a file `assignment8.py`.  If you commit this file to the repository, only the Python file will be tested (not the Jupyter notebook).  However, if you do not commit this file into the repository, the Jupyter notebook will be converted automatically on Travis before testing.  "
   ]
  },
  {
   "cell_type": "code",
   "execution_count": 1,
   "metadata": {},
   "outputs": [],
   "source": [
    "import numpy as np\n",
    "import linecache\n",
    "import scipy.integrate\n",
    "import re\n",
    "datafile = 'data.dat'\n",
    "\n",
    "\n",
    "class StressStrainConverter():\n",
    "    \n",
    "    def __init__(self, filename):\n",
    "        \n",
    "        self.filename = filename\n",
    "        \n",
    "\n",
    "    def extract_dimensions(self):\n",
    "\n",
    "        line = linecache.getline(self.filename, 3).split('=')\n",
    "\n",
    "        self.width = float(line[1].split('\"')[0])\n",
    "\n",
    "        self.thickness = float(line[2].split('\"')[0]) \n",
    "\n",
    "        return\n",
    "    \n",
    "\n",
    "    def convert_to_true_stress_and_strain(self):\n",
    "        \n",
    "        self.extract_dimensions()\n",
    "\n",
    "        eng_strain, force = np.loadtxt(self.filename, skiprows=5, usecols=(2,3)).T \n",
    "\n",
    "        self.true_strain = np.log(1 + eng_strain)\n",
    "\n",
    "        self.true_stress = force / self.width / self.thickness * (1 + eng_strain)\n",
    "\n",
    "        return \n",
    "    \n",
    "    \n",
    "class Toughness(StressStrainConverter):\n",
    "    \n",
    "    \n",
    "    \n",
    "    def compute_toughness_simps(self):\n",
    "        \n",
    "        self.extract_dimensions()\n",
    "        self.convert_to_true_stress_and_strain()\n",
    "        \n",
    "        return scipy.integrate.simps(self.true_stress, self.true_strain)\n",
    "    \n",
    "    def compute_toughness_trapz(self):\n",
    "        self.extract_dimensions()\n",
    "        self.convert_to_true_stress_and_strain()\n",
    "        \n",
    "        return scipy.integrate.trapz(self.true_stress, self.true_strain)"
   ]
  },
  {
   "cell_type": "markdown",
   "metadata": {},
   "source": [
    "Implementation of the Toughness class"
   ]
  },
  {
   "cell_type": "code",
   "execution_count": 2,
   "metadata": {},
   "outputs": [],
   "source": [
    "ss = Toughness('data.dat')"
   ]
  },
  {
   "cell_type": "markdown",
   "metadata": {},
   "source": [
    "We now will test two integration techniques: `simpson` and `trapezoid`"
   ]
  },
  {
   "cell_type": "code",
   "execution_count": 3,
   "metadata": {},
   "outputs": [],
   "source": [
    "simps_soln = ss.compute_toughness_simps()\n",
    "trapz_soln = ss.compute_toughness_trapz()"
   ]
  },
  {
   "cell_type": "code",
   "execution_count": 4,
   "metadata": {},
   "outputs": [],
   "source": [
    "from matplotlib import pyplot as plt"
   ]
  },
  {
   "cell_type": "code",
   "execution_count": 9,
   "metadata": {},
   "outputs": [
    {
     "name": "stdout",
     "output_type": "stream",
     "text": [
      "Simpsons solution: 70836.22985688646\n",
      "Trapezoid solution: 70836.14348345132\n"
     ]
    }
   ],
   "source": [
    "print('Simpsons solution: ' + str(simps_soln))\n",
    "print('Trapezoid solution: ' + str(trapz_soln))"
   ]
  },
  {
   "cell_type": "code",
   "execution_count": null,
   "metadata": {},
   "outputs": [],
   "source": []
  },
  {
   "cell_type": "code",
   "execution_count": null,
   "metadata": {},
   "outputs": [],
   "source": []
  },
  {
   "cell_type": "code",
   "execution_count": null,
   "metadata": {
    "collapsed": true
   },
   "outputs": [],
   "source": []
  }
 ],
 "metadata": {
  "kernelspec": {
   "display_name": "Python 3",
   "language": "python",
   "name": "python3"
  },
  "language_info": {
   "codemirror_mode": {
    "name": "ipython",
    "version": 3
   },
   "file_extension": ".py",
   "mimetype": "text/x-python",
   "name": "python",
   "nbconvert_exporter": "python",
   "pygments_lexer": "ipython3",
   "version": "3.7.1"
  }
 },
 "nbformat": 4,
 "nbformat_minor": 2
}
