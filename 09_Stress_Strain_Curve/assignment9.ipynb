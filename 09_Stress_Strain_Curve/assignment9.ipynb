{
 "cells": [
  {
   "cell_type": "markdown",
   "metadata": {},
   "source": [
    "# Assignment 9\n",
    "\n",
    "This repository contains the same file `data.dat` from [Assignment 8](https://github.com/PGE383-HPC-Fall2018/assignment8) and Python classes named `StressStrainConverter` and `Toughness` that implement a solution to that assignment.\n",
    "\n",
    "You should complete the derived class `Plotter` to create the following plot exactly as shown. \n",
    "\n",
    "![img](ss_plot_gold.png)\n",
    "\n",
    "Specifically you will need to complete the `plot()` function.  Here are couple of hints to get things exactly right.\n",
    "\n",
    " * The gray fill color can be specified using the option `color='0.75'`.\n",
    " \n",
    " * The label in the center uses $\\LaTeX$, specifically it uses the `\\mathcal{T}` for the cursive T.  Use size 16 font for the label.\n",
    " \n",
    " * Don't hard code the value of toughness, but rather compute it, store it as a variable and use that to create the label.\n",
    " \n",
    "After you have the tests passing on Travis, check back in on the repository on Github and look for a new branch called `travis-auto` to view the PDF that was automatically generated.\n"
   ]
  },
  {
   "cell_type": "markdown",
   "metadata": {},
   "source": [
    "## Please Note\n",
    "\n",
    "You may write your code directly in the Jupyter Notebook below or convert the notebook to a plain Python file with the command\n",
    "\n",
    "```bash\n",
    "jupyter nbconvert --to python assignment9.ipynb\n",
    "```\n",
    "\n",
    "which will create a file `assignment9.py`.  If you commit this file to the repository, only the Python file will be tested (not the Jupyter notebook).  However, if you do not commit this file into the repository, the Jupyter notebook will be converted automatically on Travis before testing.  "
   ]
  },
  {
   "cell_type": "code",
   "execution_count": 3,
   "metadata": {},
   "outputs": [],
   "source": [
    "import numpy as np\n",
    "import linecache\n",
    "import scipy.integrate\n",
    "\n",
    "import matplotlib\n",
    "matplotlib.use('Agg') # COMMENT THIS LINE OUT TO GENERATE THE PLOT\n",
    "import matplotlib.pyplot as plt\n",
    "datafile = 'data.dat'\n",
    "\n",
    "class StressStrainConverter():\n",
    "    \n",
    "    def __init__(self, filename):\n",
    "        \n",
    "        self.filename = filename\n",
    "        \n",
    "\n",
    "    def extract_dimensions(self):\n",
    "\n",
    "        line = linecache.getline(self.filename, 3).split('=')\n",
    "\n",
    "        self.width = float(line[1].split('\"')[0])\n",
    "\n",
    "        self.thickness = float(line[2].split('\"')[0]) \n",
    "\n",
    "        return\n",
    "    \n",
    "\n",
    "    def convert_to_true_stress_and_strain(self):\n",
    "        \n",
    "        self.extract_dimensions()\n",
    "\n",
    "        eng_strain, force = np.loadtxt(self.filename, skiprows=5, usecols=(2,3)).T \n",
    "\n",
    "        self.true_strain = np.log(1 + eng_strain)\n",
    "\n",
    "        self.true_stress = force / self.width / self.thickness * (1 + eng_strain)\n",
    "\n",
    "        return \n",
    "    \n",
    "    \n",
    "class Toughness(StressStrainConverter):\n",
    "    \n",
    "    def compute_toughness_simps(self):\n",
    "        \n",
    "        self.convert_to_true_stress_and_strain()\n",
    "        \n",
    "        return scipy.integrate.simps(self.true_stress, self.true_strain)\n",
    "    \n",
    "    def compute_toughness_trapz(self):\n",
    "        \n",
    "        self.convert_to_true_stress_and_strain()\n",
    "        \n",
    "        return scipy.integrate.trapz(self.true_stress, self.true_strain)\n",
    "    \n",
    "    \n",
    "class Plotter(Toughness):\n",
    "    \n",
    "    def plot(self):\n",
    "        \n",
    "        self.compute_toughness_simps()\n",
    "        self.compute_toughness_trapz()\n",
    "        \n",
    "        plt.figure(figsize=(8, 6), dpi=80)\n",
    "        plt.plot(self.true_strain, self.true_stress, color = 'black')\n",
    "        plt.fill_between(self.true_strain, self.true_stress, color = '0.75')\n",
    "        plt.xlabel('$\\epsilon$ (in/in)')\n",
    "        plt.ylabel('$\\sigma$ (psi)')\n",
    "        plt.text(0.25,60000,'$\\mathcal{T}$ = %d psi' % self.compute_toughness_simps(), fontsize = 16, color = 'blue')\n",
    "      \n",
    "    \n",
    "    def plot_png(self, basename):\n",
    "        \n",
    "        self.plot()\n",
    "        \n",
    "        plt.savefig(basename + '.png', bbox_inches='tight')\n",
    "        \n",
    "    def plot_pgf(self, basename):\n",
    "        \n",
    "        self.plot()\n",
    "        \n",
    "        plt.savefig(basename + '.pgf', bbox_inches='tight')"
   ]
  },
  {
   "cell_type": "code",
   "execution_count": 2,
   "metadata": {},
   "outputs": [
    {
     "data": {
      "image/png": "[encoded data removed]",
      "text/plain": [
       "<Figure size 640x480 with 1 Axes>"
      ]
     },
     "metadata": {
      "needs_background": "light"
     },
     "output_type": "display_data"
    }
   ],
   "source": [
    "pl = Plotter(datafile)\n",
    "pl.plot()"
   ]
  },
  {
   "cell_type": "code",
   "execution_count": null,
   "metadata": {},
   "outputs": [],
   "source": []
  },
  {
   "cell_type": "code",
   "execution_count": null,
   "metadata": {},
   "outputs": [],
   "source": []
  }
 ],
 "metadata": {
  "kernelspec": {
   "display_name": "Python 3",
   "language": "python",
   "name": "python3"
  },
  "language_info": {
   "codemirror_mode": {
    "name": "ipython",
    "version": 3
   },
   "file_extension": ".py",
   "mimetype": "text/x-python",
   "name": "python",
   "nbconvert_exporter": "python",
   "pygments_lexer": "ipython3",
   "version": "3.7.1"
  }
 },
 "nbformat": 4,
 "nbformat_minor": 2
}
