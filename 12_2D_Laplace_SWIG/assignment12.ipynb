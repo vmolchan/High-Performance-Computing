{
 "cells": [
  {
   "cell_type": "markdown",
   "metadata": {},
   "source": [
    "# Assignment 12\n",
    "\n",
    "In [Assignment 10](https://github.com/PGE383-HPC-Fall2018/assignment10) we used [Numba](http://numba.pydata.org/) and in [Assignment 11](https://github.com/PGE383-HPC-Fall2018/assignment11) we used [CFFI](https://cffi.readthedocs.io/en/latest/) to speed up the implementation of a two dimensional finite difference solution to the Laplace equation.  In this assignment we will use [SWIG](http://www.swig.org/).  \n",
    "\n",
    "While all three methods will likely give similar results, they all have thier advantages and disadvantages for the particular use case.  SWIG is particulary useful in wrapping functions from existing C/C++ libraries, especially where several functions may share identical argument signatures.  Additionally, we can use the included [numpy.i](./numpy.i) file to create Python wrappers that are \"Numpy aware\", meaning that they can take advantage of the fact that Numpy objects know thier shape (e.g. number of rows/columns in a 2D Numpy array) to produce Python wrapper functions that have more simplified argument signatures than the underling C/C++ code.  Finally, although we won't use the capability in this assignment, the same SWIG interface files can be used to generate wrappers for languages in addition to Python, such as Javascript or Perl.\n",
    "\n",
    "I have written the two functions `iterate` and `iterate_red_black` in C.  These implementation are in the file [iterate.c](iterate.c) and the function declarations are in the header file [iterate.h](iterate.h).  It's your task to write a SWIG interface file [iterate.i](iterate.i) that wraps the functions `iterate` and `iterate_red_black` defined in [iterate.c](iterate.c). The Python module that SWIG generates can then be imported into [laplace.py](laplace.py) and the functions `iterate` and `iterate_red_black` can be called as shown in `swig_solve()` and `swig_solve_red_black()`.  Just uncomment out the import statement and return line.\n",
    "\n",
    "Because the array `u` is a numpy array, I have included a [numpy.i](numpy.i) SWIG interface file, as well.  This can be used to assist in writing your [iterate.i](iterate.i) file.  You may want to look at the [numpy.i Documentation](https://docs.scipy.org/doc/numpy-1.13.0/reference/swig.interface-file.html) for additional help.  Once you've used used `swig` to generate the interface, you can use the following command to compile the iterface into a dynamic library\n",
    "\n",
    "```bash\n",
    "gcc -fPIC -shared iterate*.c -o _iterate.so -I$CONDA_PREFIX/include/python3.6m -I$CONDA_PREFIX/lib/python3.6/site-packages/numpy/core/include\n",
    "```\n",
    "\n",
    "The code below can be uncommented and used to test the timing of the speedup of the wrapped functions."
   ]
  },
  {
   "cell_type": "code",
   "execution_count": 1,
   "metadata": {},
   "outputs": [],
   "source": [
    "from laplace import LaplaceSolver\n",
    "solver = LaplaceSolver(nx=20, ny=20)\n",
    "solver.set_boundary_condtion('top', lambda x,y: 10)\n",
    "solver.set_boundary_condtion('bottom', lambda x,y: 10)"
   ]
  },
  {
   "cell_type": "code",
   "execution_count": 2,
   "metadata": {},
   "outputs": [
    {
     "name": "stdout",
     "output_type": "stream",
     "text": [
      "555 µs ± 2.56 µs per loop (mean ± std. dev. of 7 runs, 1 loop each)\n"
     ]
    }
   ],
   "source": [
    "%timeit solver.solve(quiet=True)"
   ]
  },
  {
   "cell_type": "code",
   "execution_count": 3,
   "metadata": {},
   "outputs": [
    {
     "name": "stdout",
     "output_type": "stream",
     "text": [
      "5.76 µs ± 168 ns per loop (mean ± std. dev. of 7 runs, 100000 loops each)\n"
     ]
    }
   ],
   "source": [
    "solver.reset()\n",
    "%timeit solver.swig_solve(quiet=True)"
   ]
  },
  {
   "cell_type": "code",
   "execution_count": 4,
   "metadata": {},
   "outputs": [
    {
     "name": "stdout",
     "output_type": "stream",
     "text": [
      "6.14 µs ± 11.3 ns per loop (mean ± std. dev. of 7 runs, 100000 loops each)\n"
     ]
    }
   ],
   "source": [
    "solver.reset()\n",
    "%timeit solver.swig_solve_red_black(quiet=True)"
   ]
  },
  {
   "cell_type": "code",
   "execution_count": 5,
   "metadata": {},
   "outputs": [
    {
     "name": "stdout",
     "output_type": "stream",
     "text": [
      "Solution converged in 1222 iterations.\n"
     ]
    }
   ],
   "source": [
    "solver.reset()\n",
    "solver.swig_solve()"
   ]
  },
  {
   "cell_type": "code",
   "execution_count": 6,
   "metadata": {},
   "outputs": [
    {
     "name": "stdout",
     "output_type": "stream",
     "text": [
      "Solution converged in 1217 iterations.\n"
     ]
    }
   ],
   "source": [
    "solver.reset()\n",
    "solver.swig_solve_red_black()"
   ]
  }
 ],
 "metadata": {
  "kernelspec": {
   "display_name": "Python 3",
   "language": "python",
   "name": "python3"
  },
  "language_info": {
   "codemirror_mode": {
    "name": "ipython",
    "version": 3
   },
   "file_extension": ".py",
   "mimetype": "text/x-python",
   "name": "python",
   "nbconvert_exporter": "python",
   "pygments_lexer": "ipython3",
   "version": "3.7.1"
  }
 },
 "nbformat": 4,
 "nbformat_minor": 2
}
