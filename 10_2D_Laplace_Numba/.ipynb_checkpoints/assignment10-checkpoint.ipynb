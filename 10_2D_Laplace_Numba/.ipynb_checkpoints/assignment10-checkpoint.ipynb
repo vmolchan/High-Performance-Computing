{
 "cells": [
  {
   "cell_type": "markdown",
   "metadata": {},
   "source": [
    "# Assignment 10\n",
    "\n",
    "Laplace's equation is a second-order partial-differential equation that can be used to describe many phenomenon in science and engineering.  In two-dimensions it has the homogeneous form\n",
    "\n",
    "$$\n",
    "\\frac{\\partial^2 u(x,y)}{\\partial x^2} + \\frac{\\partial^2 u(x,y)}{\\partial y^2} = 0.\n",
    "$$\n",
    "    \n",
    "Physically, this might represent a steady state heat conduction or pressure diffusivity problem.   You can use iterative procedure with a finite difference scheme to arrive at the steady-state solution.  I have implemented such a solver in the file [laplace.py](laplace.py).  To run this code we first import the `LaplaceSolver` class  "
   ]
  },
  {
   "cell_type": "code",
   "execution_count": 1,
   "metadata": {},
   "outputs": [],
   "source": [
    "from laplace import LaplaceSolver"
   ]
  },
  {
   "cell_type": "markdown",
   "metadata": {},
   "source": [
    "Now we can instantiate the class, creating the `solver` object and apply some boundary conditions.  In this case, we are applying a constant value $u(x,0) = u(x,1) = 10$."
   ]
  },
  {
   "cell_type": "code",
   "execution_count": 2,
   "metadata": {},
   "outputs": [],
   "source": [
    "solver = LaplaceSolver(nx=10, ny=10, xmin=0.0, xmax=1.0, ymin=0.0, ymax=1.0)\n",
    "solver.set_boundary_condtion(side='top', boundary_condition_function=lambda x,y: 10)\n",
    "solver.set_boundary_condtion('bottom', lambda x,y: 10)"
   ]
  },
  {
   "cell_type": "markdown",
   "metadata": {},
   "source": [
    "Now we can solve the problem.  Here we use the ipython magic command `%prun` to run the code in a profiler."
   ]
  },
  {
   "cell_type": "code",
   "execution_count": 3,
   "metadata": {},
   "outputs": [
    {
     "name": "stdout",
     "output_type": "stream",
     "text": [
      "Solution converged in 288 iterations.\n",
      " "
     ]
    }
   ],
   "source": [
    "%prun solver.solve()"
   ]
  },
  {
   "cell_type": "markdown",
   "metadata": {},
   "source": [
    "What the output of the profiler above shows is that the function `iterate()` defined in `laplace.py` is the most expensive part of the code.  Therefore, if we want to speed this code up, we should first focus our efforts on this function.\n",
    "\n",
    "Just for completeness, I have plotted the solution below."
   ]
  },
  {
   "cell_type": "code",
   "execution_count": 4,
   "metadata": {},
   "outputs": [
    {
     "data": {
      "image/png": "[encoded data removed]",
      "text/plain": [
       "<Figure size 432x288 with 2 Axes>"
      ]
     },
     "metadata": {
      "needs_background": "light"
     },
     "output_type": "display_data"
    }
   ],
   "source": [
    "%matplotlib inline\n",
    "import matplotlib.pyplot as plt\n",
    "import numpy as np\n",
    "\n",
    "x = np.linspace(solver.xmin, solver.xmax, solver.nx)\n",
    "y = np.linspace(solver.ymin, solver.ymax, solver.ny)\n",
    "\n",
    "X, Y = np.meshgrid(x, y)\n",
    "\n",
    "plt.contourf(X, Y, solver.get_solution())\n",
    "plt.axis('equal')\n",
    "plt.colorbar();"
   ]
  },
  {
   "cell_type": "markdown",
   "metadata": {},
   "source": [
    "Implement a new class member function called `numba_solve()` that uses Numba to speed up the code.  Implement it a way that the existing `solve()` function still works as currently implemented so that timing comparisons can be made.  It is an expectation that the \"Numbafied\" version of the code should be *at least* 10 times faster.  You can test the timing of the two functions below."
   ]
  },
  {
   "cell_type": "code",
   "execution_count": 5,
   "metadata": {},
   "outputs": [
    {
     "name": "stdout",
     "output_type": "stream",
     "text": [
      "156 µs ± 1.21 µs per loop (mean ± std. dev. of 7 runs, 10000 loops each)\n"
     ]
    }
   ],
   "source": [
    "solver.reset()\n",
    "solver.set_boundary_condtion(side='top', boundary_condition_function=lambda x,y: 10)\n",
    "solver.set_boundary_condtion('bottom', lambda x,y: 10)\n",
    "%timeit solver.solve(quiet=True)"
   ]
  },
  {
   "cell_type": "code",
   "execution_count": 6,
   "metadata": {},
   "outputs": [
    {
     "name": "stdout",
     "output_type": "stream",
     "text": [
      "The slowest run took 10.00 times longer than the fastest. This could mean that an intermediate result is being cached.\n",
      "3.43 µs ± 4.32 µs per loop (mean ± std. dev. of 7 runs, 1 loop each)\n"
     ]
    }
   ],
   "source": [
    "solver.reset()\n",
    "solver.set_boundary_condtion(side='top', boundary_condition_function=lambda x,y: 10)\n",
    "solver.set_boundary_condtion('bottom', lambda x,y: 10)\n",
    "%timeit solver.numba_solve(quiet=True)"
   ]
  },
  {
   "cell_type": "code",
   "execution_count": null,
   "metadata": {},
   "outputs": [],
   "source": []
  }
 ],
 "metadata": {
  "kernelspec": {
   "display_name": "Python 3",
   "language": "python",
   "name": "python3"
  },
  "language_info": {
   "codemirror_mode": {
    "name": "ipython",
    "version": 3
   },
   "file_extension": ".py",
   "mimetype": "text/x-python",
   "name": "python",
   "nbconvert_exporter": "python",
   "pygments_lexer": "ipython3",
   "version": "3.7.1"
  }
 },
 "nbformat": 4,
 "nbformat_minor": 2
}
